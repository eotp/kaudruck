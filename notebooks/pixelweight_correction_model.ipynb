{
 "cells": [
  {
   "cell_type": "markdown",
   "metadata": {},
   "source": [
    "# Project _Kaudruck_ - Pixelweight correction model"
   ]
  },
  {
   "cell_type": "markdown",
   "metadata": {},
   "source": [
    "### Setup"
   ]
  },
  {
   "cell_type": "code",
   "execution_count": 31,
   "metadata": {},
   "outputs": [
    {
     "name": "stdout",
     "output_type": "stream",
     "text": [
      "The autoreload extension is already loaded. To reload it, use:\n",
      "  %reload_ext autoreload\n"
     ]
    }
   ],
   "source": [
    "%matplotlib inline\n",
    "%load_ext autoreload\n",
    "%autoreload 2"
   ]
  },
  {
   "cell_type": "code",
   "execution_count": 32,
   "metadata": {},
   "outputs": [],
   "source": [
    "import os\n",
    "import sys\n",
    "import matplotlib.pyplot as plt\n",
    "import matplotlib.cm as cmap\n",
    "import numpy as np\n",
    "from skimage import io\n",
    "import pandas as pd"
   ]
  },
  {
   "cell_type": "code",
   "execution_count": 33,
   "metadata": {},
   "outputs": [],
   "source": [
    "from matplotlib import rcParams\n",
    "rcParams['font.family'] = 'sans-serif'\n",
    "rcParams['font.sans-serif'] = ['Arial']\n",
    "\n",
    "rcParams['xtick.labelsize'] = 16\n",
    "rcParams['ytick.labelsize'] = 16\n",
    "rcParams['legend.fontsize'] = \"large\""
   ]
  },
  {
   "cell_type": "code",
   "execution_count": 34,
   "metadata": {},
   "outputs": [],
   "source": [
    "src_dir = os.path.abspath(os.path.join(os.pardir, 'src'))\n",
    "sys.path.append(src_dir)"
   ]
  },
  {
   "cell_type": "code",
   "execution_count": 35,
   "metadata": {},
   "outputs": [],
   "source": [
    "from kaudruck import KauDruck, plot_aoi_aor"
   ]
  },
  {
   "cell_type": "markdown",
   "metadata": {},
   "source": [
    "## Empirical data"
   ]
  },
  {
   "cell_type": "code",
   "execution_count": 36,
   "metadata": {},
   "outputs": [
    {
     "data": {
      "text/html": [
       "<div>\n",
       "<style scoped>\n",
       "    .dataframe tbody tr th:only-of-type {\n",
       "        vertical-align: middle;\n",
       "    }\n",
       "\n",
       "    .dataframe tbody tr th {\n",
       "        vertical-align: top;\n",
       "    }\n",
       "\n",
       "    .dataframe thead th {\n",
       "        text-align: right;\n",
       "    }\n",
       "</style>\n",
       "<table border=\"1\" class=\"dataframe\">\n",
       "  <thead>\n",
       "    <tr style=\"text-align: right;\">\n",
       "      <th></th>\n",
       "      <th>Kraft [N]</th>\n",
       "      <th>FG/ Pixel- 4 mm</th>\n",
       "      <th>FG/ Pixel- 6,5 mm</th>\n",
       "      <th>FG/ Pixel- 12 mm</th>\n",
       "    </tr>\n",
       "  </thead>\n",
       "  <tbody>\n",
       "    <tr>\n",
       "      <th>0</th>\n",
       "      <td>2</td>\n",
       "      <td>0.330</td>\n",
       "      <td>0.321</td>\n",
       "      <td>0.310</td>\n",
       "    </tr>\n",
       "    <tr>\n",
       "      <th>1</th>\n",
       "      <td>5</td>\n",
       "      <td>0.376</td>\n",
       "      <td>0.364</td>\n",
       "      <td>0.348</td>\n",
       "    </tr>\n",
       "    <tr>\n",
       "      <th>2</th>\n",
       "      <td>10</td>\n",
       "      <td>0.394</td>\n",
       "      <td>0.393</td>\n",
       "      <td>0.383</td>\n",
       "    </tr>\n",
       "    <tr>\n",
       "      <th>3</th>\n",
       "      <td>20</td>\n",
       "      <td>0.405</td>\n",
       "      <td>0.415</td>\n",
       "      <td>0.407</td>\n",
       "    </tr>\n",
       "    <tr>\n",
       "      <th>4</th>\n",
       "      <td>30</td>\n",
       "      <td>0.416</td>\n",
       "      <td>0.423</td>\n",
       "      <td>0.427</td>\n",
       "    </tr>\n",
       "    <tr>\n",
       "      <th>5</th>\n",
       "      <td>40</td>\n",
       "      <td>0.425</td>\n",
       "      <td>0.425</td>\n",
       "      <td>0.430</td>\n",
       "    </tr>\n",
       "    <tr>\n",
       "      <th>6</th>\n",
       "      <td>50</td>\n",
       "      <td>0.429</td>\n",
       "      <td>0.432</td>\n",
       "      <td>0.443</td>\n",
       "    </tr>\n",
       "    <tr>\n",
       "      <th>7</th>\n",
       "      <td>60</td>\n",
       "      <td>0.443</td>\n",
       "      <td>0.435</td>\n",
       "      <td>0.446</td>\n",
       "    </tr>\n",
       "    <tr>\n",
       "      <th>8</th>\n",
       "      <td>70</td>\n",
       "      <td>0.441</td>\n",
       "      <td>0.439</td>\n",
       "      <td>0.449</td>\n",
       "    </tr>\n",
       "    <tr>\n",
       "      <th>9</th>\n",
       "      <td>80</td>\n",
       "      <td>NaN</td>\n",
       "      <td>0.443</td>\n",
       "      <td>0.451</td>\n",
       "    </tr>\n",
       "    <tr>\n",
       "      <th>10</th>\n",
       "      <td>100</td>\n",
       "      <td>NaN</td>\n",
       "      <td>0.452</td>\n",
       "      <td>0.460</td>\n",
       "    </tr>\n",
       "    <tr>\n",
       "      <th>11</th>\n",
       "      <td>120</td>\n",
       "      <td>NaN</td>\n",
       "      <td>0.453</td>\n",
       "      <td>NaN</td>\n",
       "    </tr>\n",
       "    <tr>\n",
       "      <th>12</th>\n",
       "      <td>150</td>\n",
       "      <td>NaN</td>\n",
       "      <td>0.462</td>\n",
       "      <td>NaN</td>\n",
       "    </tr>\n",
       "  </tbody>\n",
       "</table>\n",
       "</div>"
      ],
      "text/plain": [
       "    Kraft [N]  FG/ Pixel- 4 mm  FG/ Pixel- 6,5 mm  FG/ Pixel- 12 mm\n",
       "0           2            0.330              0.321             0.310\n",
       "1           5            0.376              0.364             0.348\n",
       "2          10            0.394              0.393             0.383\n",
       "3          20            0.405              0.415             0.407\n",
       "4          30            0.416              0.423             0.427\n",
       "5          40            0.425              0.425             0.430\n",
       "6          50            0.429              0.432             0.443\n",
       "7          60            0.443              0.435             0.446\n",
       "8          70            0.441              0.439             0.449\n",
       "9          80              NaN              0.443             0.451\n",
       "10        100              NaN              0.452             0.460\n",
       "11        120              NaN              0.453               NaN\n",
       "12        150              NaN              0.462               NaN"
      ]
     },
     "execution_count": 36,
     "metadata": {},
     "output_type": "execute_result"
    }
   ],
   "source": [
    "df = pd.read_excel('../data/empirical/Serie1_Gewichts-Flächenwerte.xlsx', \n",
    "                    skiprows=list(range(16)),\n",
    "                   usecols=[8, 9,10,11,12],\n",
    "                   skipfooter=6\n",
    "                    )\n",
    "df"
   ]
  },
  {
   "cell_type": "code",
   "execution_count": 37,
   "metadata": {},
   "outputs": [],
   "source": [
    "df['mean_FG'] = df[[x for x in df.columns if x.startswith(\"FG\")]].mean(axis=1)"
   ]
  },
  {
   "cell_type": "code",
   "execution_count": 38,
   "metadata": {},
   "outputs": [
    {
     "data": {
      "text/plain": [
       "Index(['Kraft_[N]', 'FG_Pixel_4_mm', 'FG_Pixel_6.5_mm', 'FG_Pixel_12_mm',\n",
       "       'mean_FG'],\n",
       "      dtype='object')"
      ]
     },
     "execution_count": 38,
     "metadata": {},
     "output_type": "execute_result"
    }
   ],
   "source": [
    "df.columns = [x.strip().replace('-',\"\").replace('/',\"\").replace(',',\".\").replace(' ',\"_\") for x in df.columns]\n",
    "df.columns "
   ]
  },
  {
   "cell_type": "markdown",
   "metadata": {},
   "source": [
    "### Plotting"
   ]
  },
  {
   "cell_type": "code",
   "execution_count": 39,
   "metadata": {},
   "outputs": [
    {
     "data": {
      "image/png": "[encoded data removed]",
      "text/plain": [
       "<Figure size 576x360 with 1 Axes>"
      ]
     },
     "metadata": {
      "needs_background": "light"
     },
     "output_type": "display_data"
    }
   ],
   "source": [
    "fig, ax = plt.subplots(figsize=(8,5))\n",
    "df.plot.scatter(x='FG_Pixel_4_mm', y='Kraft_[N]', ax=ax, label='4_mm', color='r')\n",
    "df.plot.scatter(x='FG_Pixel_6.5_mm', y='Kraft_[N]', ax=ax, label='6.5_mm', color='g')\n",
    "df.plot.scatter(x='FG_Pixel_12_mm', y='Kraft_[N]', ax=ax, label='12_mm', color='b')\n",
    "\n",
    "ax.grid()"
   ]
  },
  {
   "cell_type": "markdown",
   "metadata": {},
   "source": [
    "## Modelling"
   ]
  },
  {
   "cell_type": "markdown",
   "metadata": {},
   "source": [
    "### Mean model"
   ]
  },
  {
   "cell_type": "code",
   "execution_count": 40,
   "metadata": {},
   "outputs": [
    {
     "data": {
      "text/html": [
       "<div>\n",
       "<style scoped>\n",
       "    .dataframe tbody tr th:only-of-type {\n",
       "        vertical-align: middle;\n",
       "    }\n",
       "\n",
       "    .dataframe tbody tr th {\n",
       "        vertical-align: top;\n",
       "    }\n",
       "\n",
       "    .dataframe thead th {\n",
       "        text-align: right;\n",
       "    }\n",
       "</style>\n",
       "<table border=\"1\" class=\"dataframe\">\n",
       "  <thead>\n",
       "    <tr style=\"text-align: right;\">\n",
       "      <th></th>\n",
       "      <th>Kraft_[N]</th>\n",
       "      <th>FG_Pixel_4_mm</th>\n",
       "      <th>FG_Pixel_6.5_mm</th>\n",
       "      <th>FG_Pixel_12_mm</th>\n",
       "      <th>mean_FG</th>\n",
       "    </tr>\n",
       "  </thead>\n",
       "  <tbody>\n",
       "    <tr>\n",
       "      <th>0</th>\n",
       "      <td>2</td>\n",
       "      <td>0.330</td>\n",
       "      <td>0.321</td>\n",
       "      <td>0.310</td>\n",
       "      <td>0.320333</td>\n",
       "    </tr>\n",
       "    <tr>\n",
       "      <th>1</th>\n",
       "      <td>5</td>\n",
       "      <td>0.376</td>\n",
       "      <td>0.364</td>\n",
       "      <td>0.348</td>\n",
       "      <td>0.362667</td>\n",
       "    </tr>\n",
       "    <tr>\n",
       "      <th>2</th>\n",
       "      <td>10</td>\n",
       "      <td>0.394</td>\n",
       "      <td>0.393</td>\n",
       "      <td>0.383</td>\n",
       "      <td>0.390000</td>\n",
       "    </tr>\n",
       "    <tr>\n",
       "      <th>3</th>\n",
       "      <td>20</td>\n",
       "      <td>0.405</td>\n",
       "      <td>0.415</td>\n",
       "      <td>0.407</td>\n",
       "      <td>0.409000</td>\n",
       "    </tr>\n",
       "    <tr>\n",
       "      <th>4</th>\n",
       "      <td>30</td>\n",
       "      <td>0.416</td>\n",
       "      <td>0.423</td>\n",
       "      <td>0.427</td>\n",
       "      <td>0.422000</td>\n",
       "    </tr>\n",
       "    <tr>\n",
       "      <th>5</th>\n",
       "      <td>40</td>\n",
       "      <td>0.425</td>\n",
       "      <td>0.425</td>\n",
       "      <td>0.430</td>\n",
       "      <td>0.426667</td>\n",
       "    </tr>\n",
       "    <tr>\n",
       "      <th>6</th>\n",
       "      <td>50</td>\n",
       "      <td>0.429</td>\n",
       "      <td>0.432</td>\n",
       "      <td>0.443</td>\n",
       "      <td>0.434667</td>\n",
       "    </tr>\n",
       "    <tr>\n",
       "      <th>7</th>\n",
       "      <td>60</td>\n",
       "      <td>0.443</td>\n",
       "      <td>0.435</td>\n",
       "      <td>0.446</td>\n",
       "      <td>0.441333</td>\n",
       "    </tr>\n",
       "    <tr>\n",
       "      <th>8</th>\n",
       "      <td>70</td>\n",
       "      <td>0.441</td>\n",
       "      <td>0.439</td>\n",
       "      <td>0.449</td>\n",
       "      <td>0.443000</td>\n",
       "    </tr>\n",
       "    <tr>\n",
       "      <th>9</th>\n",
       "      <td>80</td>\n",
       "      <td>NaN</td>\n",
       "      <td>0.443</td>\n",
       "      <td>0.451</td>\n",
       "      <td>0.447000</td>\n",
       "    </tr>\n",
       "    <tr>\n",
       "      <th>10</th>\n",
       "      <td>100</td>\n",
       "      <td>NaN</td>\n",
       "      <td>0.452</td>\n",
       "      <td>0.460</td>\n",
       "      <td>0.456000</td>\n",
       "    </tr>\n",
       "    <tr>\n",
       "      <th>11</th>\n",
       "      <td>120</td>\n",
       "      <td>NaN</td>\n",
       "      <td>0.453</td>\n",
       "      <td>NaN</td>\n",
       "      <td>0.453000</td>\n",
       "    </tr>\n",
       "    <tr>\n",
       "      <th>12</th>\n",
       "      <td>150</td>\n",
       "      <td>NaN</td>\n",
       "      <td>0.462</td>\n",
       "      <td>NaN</td>\n",
       "      <td>0.462000</td>\n",
       "    </tr>\n",
       "  </tbody>\n",
       "</table>\n",
       "</div>"
      ],
      "text/plain": [
       "    Kraft_[N]  FG_Pixel_4_mm  FG_Pixel_6.5_mm  FG_Pixel_12_mm   mean_FG\n",
       "0           2          0.330            0.321           0.310  0.320333\n",
       "1           5          0.376            0.364           0.348  0.362667\n",
       "2          10          0.394            0.393           0.383  0.390000\n",
       "3          20          0.405            0.415           0.407  0.409000\n",
       "4          30          0.416            0.423           0.427  0.422000\n",
       "5          40          0.425            0.425           0.430  0.426667\n",
       "6          50          0.429            0.432           0.443  0.434667\n",
       "7          60          0.443            0.435           0.446  0.441333\n",
       "8          70          0.441            0.439           0.449  0.443000\n",
       "9          80            NaN            0.443           0.451  0.447000\n",
       "10        100            NaN            0.452           0.460  0.456000\n",
       "11        120            NaN            0.453             NaN  0.453000\n",
       "12        150            NaN            0.462             NaN  0.462000"
      ]
     },
     "execution_count": 40,
     "metadata": {},
     "output_type": "execute_result"
    }
   ],
   "source": [
    "df"
   ]
  },
  {
   "cell_type": "code",
   "execution_count": 46,
   "metadata": {},
   "outputs": [],
   "source": [
    "from scipy.optimize import curve_fit\n",
    "#def f(x, a, b, n):\n",
    "#    return a * x ** n  / (x ** n + b)\n",
    "\n",
    "def f(x, a, b, c):\n",
    "    return a * np.exp(b * x) + c\n",
    "\n",
    "y = df['Kraft_[N]'].values\n",
    "x = df['mean_FG'].values\n",
    "\n",
    "popt, pcov = curve_fit(f, x, y)\n",
    "fitted = f(x, *popt)"
   ]
  },
  {
   "cell_type": "code",
   "execution_count": 51,
   "metadata": {},
   "outputs": [
    {
     "data": {
      "text/plain": [
       "array([0.32033333, 0.36266667, 0.39      , 0.409     , 0.422     ,\n",
       "       0.42666667, 0.43466667, 0.44133333, 0.443     , 0.447     ,\n",
       "       0.456     , 0.453     , 0.462     ])"
      ]
     },
     "execution_count": 51,
     "metadata": {},
     "output_type": "execute_result"
    }
   ],
   "source": [
    "x"
   ]
  },
  {
   "cell_type": "code",
   "execution_count": 52,
   "metadata": {},
   "outputs": [
    {
     "data": {
      "text/plain": [
       "array([  2,   5,  10,  20,  30,  40,  50,  60,  70,  80, 100, 120, 150])"
      ]
     },
     "execution_count": 52,
     "metadata": {},
     "output_type": "execute_result"
    }
   ],
   "source": [
    "y"
   ]
  },
  {
   "cell_type": "code",
   "execution_count": 53,
   "metadata": {},
   "outputs": [
    {
     "data": {
      "text/plain": [
       "array([1.12524573e-06, 4.04200867e+01, 2.20984718e+00])"
      ]
     },
     "execution_count": 53,
     "metadata": {},
     "output_type": "execute_result"
    }
   ],
   "source": [
    "popt"
   ]
  },
  {
   "cell_type": "code",
   "execution_count": 54,
   "metadata": {},
   "outputs": [
    {
     "data": {
      "image/png": "[encoded data removed]",
      "text/plain": [
       "<Figure size 864x432 with 1 Axes>"
      ]
     },
     "metadata": {
      "needs_background": "light"
     },
     "output_type": "display_data"
    }
   ],
   "source": [
    "fig, ax = plt.subplots(figsize=(12,6))\n",
    "#a * np.exp(b * x) + c\n",
    "ax.scatter(x=x, \n",
    "           y=y,\n",
    "           marker='o', color=\"r\", label=\"data\")\n",
    "ax.plot(x, fitted, color=\"blue\",\n",
    "      label='Fitted Function:\\n ' + r'$y =  %0.8f e^{%0.2fx} + %0.2f$' % (popt[0],popt[1],popt[2]))\n",
    "        \n",
    "ax.grid()\n",
    "ax.set_xlabel('mean_FG', size=18)\n",
    "ax.set_ylabel('Kraft_[N]', size=18)\n",
    "ax.legend(fontsize=16);"
   ]
  },
  {
   "cell_type": "markdown",
   "metadata": {},
   "source": [
    "### Save model for further usage"
   ]
  },
  {
   "cell_type": "code",
   "execution_count": 55,
   "metadata": {},
   "outputs": [],
   "source": [
    "import json\n",
    "with open('../models/pixelweight_correction.json', 'w') as f:\n",
    "    json.dump({'force_N':y.tolist(), 'pixelweight':x.tolist()}, f)"
   ]
  },
  {
   "cell_type": "code",
   "execution_count": 56,
   "metadata": {},
   "outputs": [
    {
     "data": {
      "text/plain": [
       "(array([0.32033333, 0.36266667, 0.39      , 0.409     , 0.422     ,\n",
       "        0.42666667, 0.43466667, 0.44133333, 0.443     , 0.447     ,\n",
       "        0.456     , 0.453     , 0.462     ]),\n",
       " array([  2,   5,  10,  20,  30,  40,  50,  60,  70,  80, 100, 120, 150]))"
      ]
     },
     "execution_count": 56,
     "metadata": {},
     "output_type": "execute_result"
    }
   ],
   "source": [
    "(x,y)"
   ]
  },
  {
   "cell_type": "markdown",
   "metadata": {},
   "source": [
    "***"
   ]
  }
 ],
 "metadata": {
  "kernelspec": {
   "display_name": "Python 3",
   "language": "python",
   "name": "python3"
  },
  "language_info": {
   "codemirror_mode": {
    "name": "ipython",
    "version": 3
   },
   "file_extension": ".py",
   "mimetype": "text/x-python",
   "name": "python",
   "nbconvert_exporter": "python",
   "pygments_lexer": "ipython3",
   "version": "3.6.7"
  }
 },
 "nbformat": 4,
 "nbformat_minor": 2
}
